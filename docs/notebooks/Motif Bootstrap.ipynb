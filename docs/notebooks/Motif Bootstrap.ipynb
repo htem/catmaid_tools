{
 "metadata": {
  "name": "",
  "signature": "sha256:62e49e0c415285050e5af0c75ea37ce7645805f3ae0707dca73d9cf079e6bffb"
 },
 "nbformat": 3,
 "nbformat_minor": 0,
 "worksheets": [
  {
   "cells": [
    {
     "cell_type": "code",
     "collapsed": false,
     "input": [
      "%matplotlib inline\n",
      "import catmaid\n",
      "import numpy as np\n",
      "import matplotlib.pyplot as plt\n",
      "from mpl_toolkits.mplot3d import Axes3D\n",
      "from scipy.special import comb\n",
      "import bisect\n"
     ],
     "language": "python",
     "metadata": {},
     "outputs": [],
     "prompt_number": 1
    },
    {
     "cell_type": "code",
     "collapsed": false,
     "input": [
      "c = catmaid.connect()\n",
      "src = catmaid.get_source( skel_source = c )\n",
      "\n",
      "nid_to_sid = c.nid_to_sid_map()\n",
      "sid_to_nid = c.sid_to_nid_map()"
     ],
     "language": "python",
     "metadata": {},
     "outputs": [
      {
       "output_type": "stream",
       "stream": "stderr",
       "text": [
        "/home/loganthomas/Documents/catmaid-github/catmaid_tools/catmaid-venv/lib/python2.7/site-packages/catmaid-dev-py2.7.egg/catmaid/connection.py:94: UserWarning: No api_token provided, fetching this takes a few seconds\n",
        "  'No api_token provided, fetching this takes a few seconds')\n",
        "INFO:catmaid.source:Attemping to connect to a ServerSource\n"
       ]
      }
     ],
     "prompt_number": 2
    },
    {
     "cell_type": "code",
     "collapsed": false,
     "input": [
      "js = c.fetchJSON('{}{}'.format(c.server,'40/search?pid=40&substring=GRC'))\n",
      "GRC_IDS_TO_NAME = dict()\n",
      "for j in js:\n",
      "    if j['class_name']=='neuron':\n",
      "        if( len(nid_to_sid[j['id']]) > 1 ):\n",
      "            print j['id']\n",
      "        skid = nid_to_sid[j['id']][0]\n",
      "        nr = src.get_neuron(skid)\n",
      "        if( nr.soma is not None ):\n",
      "            GRC_IDS_TO_NAME[skid] = {'name': j['name'], 'color': len(GRC_IDS_TO_NAME.keys())}\n",
      "            s = nr.nodes[nr.soma]\n",
      "            GRC_IDS_TO_NAME[skid]['soma'] =  np.asarray([s['x'],s['y'],s['z']])\n",
      "\n",
      "print \"Number of GRCs included: \", len(GRC_IDS_TO_NAME)\n",
      "\n",
      "MF_IDS_TO_NAME =  dict()\n",
      "js = c.fetchJSON('{}{}'.format(c.server,'40/search?pid=40&substring=MF'))\n",
      "for j in js:\n",
      "    if j['class_name']=='neuron':\n",
      "        MF_IDS_TO_NAME[nid_to_sid[j['id']][0]] = {'name': j['name'], 'color': len(MF_IDS_TO_NAME.keys())}\n",
      "print \"Number of MFs included: \", len(MF_IDS_TO_NAME)"
     ],
     "language": "python",
     "metadata": {},
     "outputs": [
      {
       "output_type": "stream",
       "stream": "stdout",
       "text": [
        "Number of GRCs included:  60\n",
        "Number of MFs included: "
       ]
      },
      {
       "output_type": "stream",
       "stream": "stdout",
       "text": [
        " 49\n"
       ]
      }
     ],
     "prompt_number": 3
    },
    {
     "cell_type": "code",
     "collapsed": false,
     "input": [
      "js = c.fetchJSON('{}{}'.format(c.server,'40/search?pid=40&substring=MF_seed'))\n",
      "\n",
      "for j in js:\n",
      "     print(j['class_name'])"
     ],
     "language": "python",
     "metadata": {},
     "outputs": [
      {
       "output_type": "stream",
       "stream": "stdout",
       "text": [
        "label\n"
       ]
      }
     ],
     "prompt_number": 4
    },
    {
     "cell_type": "code",
     "collapsed": false,
     "input": [
      "gcc = []\n",
      "for s in GRC_IDS_TO_NAME:\n",
      "    gcc.append(GRC_IDS_TO_NAME[s]['soma'])\n",
      "gcc= np.asarray(gcc)"
     ],
     "language": "python",
     "metadata": {},
     "outputs": [],
     "prompt_number": 5
    },
    {
     "cell_type": "code",
     "collapsed": false,
     "input": [
      "print (gcc[:,0][~np.isnan(gcc[:,0])].min() - 70000) / 4\n",
      "print (gcc[:,0][~np.isnan(gcc[:,0])].max()+ 70000) / 4\n",
      "print (gcc[:,1][~np.isnan(gcc[:,0])].min()- 70000) / 4\n",
      "print (gcc[:,1][~np.isnan(gcc[:,0])].max()+ 70000) / 4\n",
      "print gcc[:,2][~np.isnan(gcc[:,0])].min()\n",
      "print gcc[:,2][~np.isnan(gcc[:,0])].max()"
     ],
     "language": "python",
     "metadata": {},
     "outputs": [
      {
       "output_type": "stream",
       "stream": "stdout",
       "text": [
        "80838.0\n",
        "153767.75\n",
        "66622.0\n",
        "125422.75\n",
        "160.0\n",
        "20480.0\n"
       ]
      }
     ],
     "prompt_number": 25
    },
    {
     "cell_type": "code",
     "collapsed": false,
     "input": [
      "# adjacency to numpy matrix\n",
      "adj = c.adjacency_matrix()\n",
      "sk_list = np.asarray(adj[1])\n",
      "\n",
      "adjacency = np.zeros((len(adj[0]),len(adj[0])))\n",
      "for i in range(len(adj[0])):\n",
      "    adjacency[i,:] = adj[0][i]\n",
      "\n",
      "#limit skels to GRC and MFs\n",
      "mfs_and_grcs = MF_IDS_TO_NAME.keys() + GRC_IDS_TO_NAME.keys()\n",
      "\n",
      "keep_list = np.asarray([ s in mfs_and_grcs for s in sk_list ])\n",
      "\n",
      "sk_list_new = sk_list[keep_list]\n",
      "adjacency_new = adjacency[:,keep_list]\n",
      "adjacency_new = adjacency_new[keep_list]\n",
      "adjacency_new = adjacency_new + adjacency_new.transpose()\n",
      "# make it unweighted\n",
      "adjacency_new[adjacency_new > 0] = 1 "
     ],
     "language": "python",
     "metadata": {},
     "outputs": [],
     "prompt_number": 7
    },
    {
     "cell_type": "code",
     "collapsed": false,
     "input": [
      "# add the number of connections to our GRC_IDS_TO_NAME dict\n",
      "for skid in GRC_IDS_TO_NAME.keys():\n",
      "    if skid not in sk_list_new:\n",
      "        print skid\n",
      "        del GRC_IDS_TO_NAME[skid]\n",
      "\n",
      "for i in range(len(sk_list_new)):\n",
      "    skid = sk_list_new[i]\n",
      "    if skid in GRC_IDS_TO_NAME.keys():\n",
      "        GRC_IDS_TO_NAME[skid]['num_connections'] = adjacency_new[i,:].sum()"
     ],
     "language": "python",
     "metadata": {},
     "outputs": [
      {
       "output_type": "stream",
       "stream": "stdout",
       "text": [
        "674904\n"
       ]
      }
     ],
     "prompt_number": 8
    },
    {
     "cell_type": "code",
     "collapsed": false,
     "input": [
      "# if you square the adjacency matrix a(i,j) is the number of 2 cycles to get from i to j\n",
      "# we can ignore diagonal things as they just report the number of neighbors\n",
      "asquared = np.matmul(adjacency_new, adjacency_new.copy())\n",
      "np.fill_diagonal(asquared, 0)\n",
      "# limit asquared to the mossy fibres\n",
      "keep_list_new = np.asarray([s in MF_IDS_TO_NAME.keys() for s in sk_list_new])\n",
      "mf_list = sk_list_new[keep_list_new]\n",
      "mf_adjacency = asquared[:,keep_list_new][keep_list_new]\n",
      "\n",
      "grc_keep_list = np.asarray([s in GRC_IDS_TO_NAME.keys() for s in sk_list_new])\n",
      "grc_list = sk_list_new[grc_keep_list]\n",
      "grc_adjacency = asquared[:,grc_keep_list][grc_keep_list]\n",
      "\n",
      "# take how many pairs are present in each adjacency matrix (should be identical)\n",
      "mf_adjacency[mf_adjacency > 0] = comb(mf_adjacency[mf_adjacency > 0],2)\n",
      "grc_adjacency[grc_adjacency > 0] = comb(grc_adjacency[grc_adjacency > 0],2)"
     ],
     "language": "python",
     "metadata": {},
     "outputs": [],
     "prompt_number": 9
    },
    {
     "cell_type": "code",
     "collapsed": false,
     "input": [
      "grc_adjacency.sum()/2"
     ],
     "language": "python",
     "metadata": {},
     "outputs": [
      {
       "metadata": {},
       "output_type": "pyout",
       "prompt_number": 10,
       "text": [
        "19.0"
       ]
      }
     ],
     "prompt_number": 10
    },
    {
     "cell_type": "code",
     "collapsed": false,
     "input": [
      "# there are 18 redundant pairs (including those involved in the triplets)\n",
      "mf_adjacency.sum() / 2"
     ],
     "language": "python",
     "metadata": {},
     "outputs": [
      {
       "metadata": {},
       "output_type": "pyout",
       "prompt_number": 11,
       "text": [
        "19.0"
       ]
      }
     ],
     "prompt_number": 11
    },
    {
     "cell_type": "code",
     "collapsed": false,
     "input": [
      "# this is how many triplets there are\n",
      "print \"Num Redundant Triplets: \", (mf_adjacency == 3).sum() / 2\n",
      "for i in range(len(mf_list)):\n",
      "    trip_partners = mf_list[i:][mf_adjacency[i,i:]==3]\n",
      "    for sk in trip_partners:\n",
      "        print \"+++++++++++++++++++++++++++++++\"\n",
      "        print MF_IDS_TO_NAME[mf_list[i]]['name']\n",
      "        print MF_IDS_TO_NAME[sk]['name']"
     ],
     "language": "python",
     "metadata": {},
     "outputs": [
      {
       "output_type": "stream",
       "stream": "stdout",
       "text": [
        "Num Redundant Triplets:  3\n",
        "+++++++++++++++++++++++++++++++\n",
        "MF1\n",
        "MF8\n",
        "+++++++++++++++++++++++++++++++\n",
        "MF6\n",
        "MF24\n",
        "+++++++++++++++++++++++++++++++\n",
        "MF6\n",
        "MF35\n"
       ]
      }
     ],
     "prompt_number": 12
    },
    {
     "cell_type": "code",
     "collapsed": false,
     "input": [
      "nr = src.get_neuron(grc_list[0])\n",
      "nr.nodes[nr.soma]"
     ],
     "language": "python",
     "metadata": {},
     "outputs": [
      {
       "metadata": {},
       "output_type": "pyout",
       "prompt_number": 13,
       "text": [
        "{'confidence': 5,\n",
        " 'labels': [u'soma', u'GC'],\n",
        " 'radius': 3597.0,\n",
        " 'type': 'skeleton',\n",
        " 'x': 470328.0,\n",
        " 'y': 393654.0,\n",
        " 'z': 9600.0}"
       ]
      }
     ],
     "prompt_number": 13
    },
    {
     "cell_type": "code",
     "collapsed": false,
     "input": [
      "\n",
      "adjacency_new.sum()/2"
     ],
     "language": "python",
     "metadata": {},
     "outputs": [
      {
       "metadata": {},
       "output_type": "pyout",
       "prompt_number": 14,
       "text": [
        "129.0"
       ]
      }
     ],
     "prompt_number": 14
    },
    {
     "cell_type": "markdown",
     "metadata": {},
     "source": [
      "##Bootstrapping\n",
      "\n",
      "Here on out will be generation and execution of bootstrapping"
     ]
    },
    {
     "cell_type": "code",
     "collapsed": false,
     "input": [
      "# here is where we will calculate mf_density\n",
      "\"\"\"\n",
      "traced_size = (99000-117000)*(86800-97200)\n",
      "total_size =  50800. *42634. \n",
      "print \"Percent Width: \", (-99000+117000) / 50800.\n",
      "print \"Percent Height: \", (-86800+97200) / 42634.\n",
      "print \"Percent Volume: \", traced_size / total_size\n",
      "\"\"\"\n",
      "traced_size = (98000*4-117000*4)*(85000*4-98000*4)*511*40\n",
      "total_size =  50800.*4 *42634.*4 *511*40\n",
      "print \"Percent Width: \", (-98000+117000) / 50800.\n",
      "print \"Percent Height: \", (-85000+98000) / 42634.\n",
      "print \"Percent Volume: \", traced_size / total_size\n",
      "print traced_size*1e-18"
     ],
     "language": "python",
     "metadata": {},
     "outputs": [
      {
       "output_type": "stream",
       "stream": "stdout",
       "text": [
        "Percent Width:  0.374015748031\n",
        "Percent Height:  0.304920955106\n",
        "Percent Volume:  0.114045239115\n",
        "8.077888e-05\n"
       ]
      }
     ],
     "prompt_number": 34
    },
    {
     "cell_type": "code",
     "collapsed": false,
     "input": [
      "top_left = np.array([93200*4,80920*4,0])\n",
      "bot_right = np.array([144000*4,123554*4,511*40])\n",
      "print top_left\n",
      "print bot_right"
     ],
     "language": "python",
     "metadata": {},
     "outputs": [
      {
       "output_type": "stream",
       "stream": "stdout",
       "text": [
        "[372800 323680      0]\n",
        "[576000 494216  20440]\n"
       ]
      }
     ],
     "prompt_number": 28
    },
    {
     "cell_type": "code",
     "collapsed": false,
     "input": [
      "#calculate the total MFS in the volume\n",
      "mf_density = 40. / traced_size\n",
      "n_GRC = len(GRC_IDS_TO_NAME.keys())\n",
      "n_MF = int(mf_density * total_size)\n",
      "print n_MF\n",
      "print 40. / traced_size*1e18"
     ],
     "language": "python",
     "metadata": {},
     "outputs": [
      {
       "output_type": "stream",
       "stream": "stdout",
       "text": [
        "350\n",
        "495178.937861\n"
       ]
      }
     ],
     "prompt_number": 38
    },
    {
     "cell_type": "code",
     "collapsed": false,
     "input": [
      "#probabilty function from other ipython notebook \n",
      "import scipy.stats as scp\n",
      "\n",
      "def get_probability_of_connection(distance):\n",
      "    ## Normal distribution\n",
      "    norm = scp.norm\n",
      "    return norm.pdf(distance, *(27185.23, 14081.168))\n",
      "    \n",
      "    ## Skewed normal\n",
      "   # sknorm = scp.skewnorm\n",
      "    #return sknorm.pdf(distance, *(15.386934490621211, 8005.6679559274198, 23800.766604448785))\n",
      "\n",
      "  #  # Gamma\n",
      "   # gamma = scp.gamma\n",
      "   # return gamma.pdf(distance, *(2.1942817064071241, 5331.9593408854398, 9960.0717790948966) )\n",
      "# this was fit the the squared distance, the exponential function looks nice\n",
      "#probably not very accurate though...\n",
      "#    return exp_func(distance*distance, 0.0083326593928,0.1122787759223,-1.3029078315867893e-9)\n"
     ],
     "language": "python",
     "metadata": {},
     "outputs": [],
     "prompt_number": 19
    },
    {
     "cell_type": "code",
     "collapsed": false,
     "input": [
      "# this function will return the number of pairs and triplets it detects\n",
      "def bootstrap( grcs, num_mf ):\n",
      "    # first we randomly distribute the MFs\n",
      "    grc_ids = np.arange(len(grcs))\n",
      "    \n",
      "    \n",
      "    mf_ids = np.arange(len(grcs),len(grcs)+ num_mf)\n",
      "    mf_centers = np.zeros((num_mf,3))\n",
      "    for i in range(num_mf):\n",
      "        center = np.random.random(3)*(bot_right - top_left) + top_left\n",
      "        mf_centers[i,:] = center\n",
      "    #bootstrap skelIds are just arange, first n_grcs are the Grcs\n",
      "    # second num_mf are the MFs\n",
      "    num_skels = len(grcs) + num_mf\n",
      "    b_skels = np.arange(num_skels)\n",
      "    b_adj = np.zeros((num_skels,num_skels))\n",
      "    #fig = plt.figure()\n",
      "    #ax = fig.add_subplot(111, projection='3d')\n",
      "    #ax.scatter(mf_centers[:,0],mf_centers[:,1],mf_centers[:,2],c='r')\n",
      "    #ax.scatter(gcc[:,0],gcc[:,1],gcc[:,2],c='b')\n",
      "    for i in range(len(grcs)):\n",
      "        dict_entry = grcs[grcs.keys()[i]]\n",
      "        soma = dict_entry['soma']\n",
      "        probabilites = np.zeros(num_mf)\n",
      "        for j in range(num_mf):\n",
      "            dif = soma - mf_centers[j]\n",
      "            probabilites[j] = get_probability_of_connection(np.sqrt(np.vdot(dif,dif)))\n",
      "        \n",
      "        #cumulative probability buildup\n",
      "        probabilites = np.cumsum(probabilites)\n",
      "        \n",
      "        n_connect = dict_entry['num_connections'] #4\n",
      "        inds_used = []\n",
      "        for j in range(int(n_connect)):\n",
      "            ind = bisect.bisect_right(probabilites,np.random.random()*probabilites.max())\n",
      "            while ind in inds_used:\n",
      "                ind = bisect.bisect_right(probabilites,np.random.random()*probabilites.max())\n",
      "           # dif = soma - mf_centers[ind]\n",
      "            #print np.sqrt(np.vdot(dif,dif))\n",
      "            skid = mf_ids[ind]\n",
      "            # lets keep it symmetric\n",
      "            dif = soma - mf_centers[ind]\n",
      "            #print np.sqrt(np.vdot(dif,dif))\n",
      "            b_adj[i,skid] = 1\n",
      "            b_adj[skid,i] = 1\n",
      "    \n",
      "    \n",
      "    # now do analysis\n",
      "    # if you square the adjacency matrix a(i,j) is the number of 2 cycles to get from i to j\n",
      "    # we can ignore diagonal things as they just report the number of neighbors\n",
      "    b_adj_squared = np.matmul(b_adj, b_adj.copy())\n",
      "    np.fill_diagonal(b_adj_squared, 0)\n",
      "    \n",
      "    # limit asquared to the mossy fibres\n",
      "    b_mf_adjacency = b_adj_squared[:,len(grcs):][len(grcs):]\n",
      "    b_grc_adjacency = b_adj_squared[:,:len(grcs)][:len(grcs)]\n",
      "    \n",
      "    # take how many pairs are present in each adjacency matrix (should be identical)\n",
      "    b_mf_adjacency[b_mf_adjacency > 0] = comb(b_mf_adjacency[b_mf_adjacency > 0],2)\n",
      "    b_grc_adjacency[b_grc_adjacency > 0] = comb(b_grc_adjacency[b_grc_adjacency > 0],2)\n",
      "\n",
      "    n_doubles = b_mf_adjacency.sum() / 2\n",
      "    n_triples = (b_mf_adjacency == 3).sum() / 2\n",
      "\n",
      "    return n_doubles, n_triples\n",
      "    \n",
      "bootstrap(GRC_IDS_TO_NAME, n_MF)"
     ],
     "language": "python",
     "metadata": {},
     "outputs": [
      {
       "metadata": {},
       "output_type": "pyout",
       "prompt_number": 42,
       "text": [
        "(0.0, 0)"
       ]
      }
     ],
     "prompt_number": 42
    },
    {
     "cell_type": "code",
     "collapsed": false,
     "input": [
      "import h5py\n",
      "results = np.zeros((10000,2))\n",
      "adj_f = h5py.File(\"adjs.hdf\",'w')\n",
      "adj_f.create_dataset(\"adjs\")\n",
      "\n",
      "for i in range(10000):\n",
      "    if i%500 == 0:\n",
      "        print i\n",
      "    results[i,:] = bootstrap(GRC_IDS_TO_NAME, n_MF)\n",
      "np.savetxt(\"bootstrap_norm_10000.csv\",results)\n"
     ],
     "language": "python",
     "metadata": {},
     "outputs": [
      {
       "output_type": "stream",
       "stream": "stdout",
       "text": [
        "0\n",
        "500"
       ]
      },
      {
       "output_type": "stream",
       "stream": "stdout",
       "text": [
        "\n",
        "1000"
       ]
      },
      {
       "output_type": "stream",
       "stream": "stdout",
       "text": [
        "\n",
        "1500"
       ]
      },
      {
       "output_type": "stream",
       "stream": "stdout",
       "text": [
        "\n",
        "2000"
       ]
      },
      {
       "output_type": "stream",
       "stream": "stdout",
       "text": [
        "\n",
        "2500"
       ]
      },
      {
       "output_type": "stream",
       "stream": "stdout",
       "text": [
        "\n",
        "3000"
       ]
      },
      {
       "output_type": "stream",
       "stream": "stdout",
       "text": [
        "\n",
        "3500"
       ]
      },
      {
       "output_type": "stream",
       "stream": "stdout",
       "text": [
        "\n",
        "4000"
       ]
      },
      {
       "output_type": "stream",
       "stream": "stdout",
       "text": [
        "\n",
        "4500"
       ]
      },
      {
       "output_type": "stream",
       "stream": "stdout",
       "text": [
        "\n",
        "5000"
       ]
      },
      {
       "output_type": "stream",
       "stream": "stdout",
       "text": [
        "\n",
        "5500"
       ]
      },
      {
       "output_type": "stream",
       "stream": "stdout",
       "text": [
        "\n",
        "6000"
       ]
      },
      {
       "output_type": "stream",
       "stream": "stdout",
       "text": [
        "\n",
        "6500"
       ]
      },
      {
       "output_type": "stream",
       "stream": "stdout",
       "text": [
        "\n",
        "7000"
       ]
      },
      {
       "output_type": "stream",
       "stream": "stdout",
       "text": [
        "\n",
        "7500"
       ]
      },
      {
       "output_type": "stream",
       "stream": "stdout",
       "text": [
        "\n",
        "8000"
       ]
      },
      {
       "output_type": "stream",
       "stream": "stdout",
       "text": [
        "\n",
        "8500"
       ]
      },
      {
       "output_type": "stream",
       "stream": "stdout",
       "text": [
        "\n",
        "9000"
       ]
      },
      {
       "output_type": "stream",
       "stream": "stdout",
       "text": [
        "\n",
        "9500"
       ]
      },
      {
       "output_type": "stream",
       "stream": "stdout",
       "text": [
        "\n"
       ]
      }
     ],
     "prompt_number": 44
    },
    {
     "cell_type": "code",
     "collapsed": false,
     "input": [
      "print scp.describe(results)\n",
      "print results"
     ],
     "language": "python",
     "metadata": {},
     "outputs": [
      {
       "output_type": "stream",
       "stream": "stdout",
       "text": [
        "DescribeResult(nobs=10, minmax=(array([ 2.,  0.]), array([ 9.,  0.])), mean=array([ 5.7,  0. ]), variance=array([ 6.45555556,  0.        ]), skewness=array([-0.03170434,  0.        ]), kurtosis=array([-1.33447288, -3.        ]))\n",
        "[[ 7.  0.]\n",
        " [ 6.  0.]\n",
        " [ 3.  0.]\n",
        " [ 5.  0.]\n",
        " [ 9.  0.]\n",
        " [ 8.  0.]\n",
        " [ 5.  0.]\n",
        " [ 9.  0.]\n",
        " [ 3.  0.]\n",
        " [ 2.  0.]]\n"
       ]
      }
     ],
     "prompt_number": 41
    },
    {
     "cell_type": "code",
     "collapsed": false,
     "input": [
      "#res2 = np.genfromtxt(\"bootstrap_norm_10.csv\")\n",
      "print n_MF\n",
      "res2 = results"
     ],
     "language": "python",
     "metadata": {},
     "outputs": [
      {
       "output_type": "stream",
       "stream": "stdout",
       "text": [
        "350\n"
       ]
      }
     ],
     "prompt_number": 49
    },
    {
     "cell_type": "code",
     "collapsed": false,
     "input": [
      "for i in range(0,10):\n",
      "    print \"%d Doubles: \\t%d \\t| %d Triples: %d\"%(i, sum(results==i)[0],i, sum(results==i)[1]) "
     ],
     "language": "python",
     "metadata": {},
     "outputs": [
      {
       "output_type": "stream",
       "stream": "stdout",
       "text": [
        "0 Doubles: \t6595 \t| 0 Triples: 9987\n",
        "1 Doubles: \t2750 \t| 1 Triples: 13\n",
        "2 Doubles: \t550 \t| 2 Triples: 0\n",
        "3 Doubles: \t85 \t| 3 Triples: 0\n",
        "4 Doubles: \t15 \t| 4 Triples: 0"
       ]
      },
      {
       "output_type": "stream",
       "stream": "stdout",
       "text": [
        "\n",
        "5 Doubles: \t4 \t| 5 Triples: 0\n",
        "6 Doubles: \t1 \t| 6 Triples: 0\n",
        "7 Doubles: \t0 \t| 7 Triples: 0\n",
        "8 Doubles: \t0 \t| 8 Triples: 0"
       ]
      },
      {
       "output_type": "stream",
       "stream": "stdout",
       "text": [
        "\n",
        "9 Doubles: \t0 \t| 9 Triples: 0\n"
       ]
      }
     ],
     "prompt_number": 50
    },
    {
     "cell_type": "markdown",
     "metadata": {},
     "source": [
      "## Debug code\n",
      "\n",
      "nothing good below this point"
     ]
    },
    {
     "cell_type": "code",
     "collapsed": false,
     "input": [
      "import seaborn\n",
      "import pandas as pd\n",
      "resframe = pd.DataFrame({ \"doubles\": res2[:,0], \"triplets\": res2[:,1]})\n",
      "actualframe = pd.DataFrame({\"doubles\": [17], \"triplets\": 3})\n",
      "\n",
      "seaborn.distplot(data=resframe)\n"
     ],
     "language": "python",
     "metadata": {},
     "outputs": [
      {
       "ename": "TypeError",
       "evalue": "distplot() got an unexpected keyword argument 'data'",
       "output_type": "pyerr",
       "traceback": [
        "\u001b[0;31m---------------------------------------------------------------------------\u001b[0m\n\u001b[0;31mTypeError\u001b[0m                                 Traceback (most recent call last)",
        "\u001b[0;32m<ipython-input-51-38b923ab82ea>\u001b[0m in \u001b[0;36m<module>\u001b[0;34m()\u001b[0m\n\u001b[1;32m      4\u001b[0m \u001b[0mactualframe\u001b[0m \u001b[0;34m=\u001b[0m \u001b[0mpd\u001b[0m\u001b[0;34m.\u001b[0m\u001b[0mDataFrame\u001b[0m\u001b[0;34m(\u001b[0m\u001b[0;34m{\u001b[0m\u001b[0;34m\"doubles\"\u001b[0m\u001b[0;34m:\u001b[0m \u001b[0;34m[\u001b[0m\u001b[0;36m17\u001b[0m\u001b[0;34m]\u001b[0m\u001b[0;34m,\u001b[0m \u001b[0;34m\"triplets\"\u001b[0m\u001b[0;34m:\u001b[0m \u001b[0;36m3\u001b[0m\u001b[0;34m}\u001b[0m\u001b[0;34m)\u001b[0m\u001b[0;34m\u001b[0m\u001b[0m\n\u001b[1;32m      5\u001b[0m \u001b[0;34m\u001b[0m\u001b[0m\n\u001b[0;32m----> 6\u001b[0;31m \u001b[0mseaborn\u001b[0m\u001b[0;34m.\u001b[0m\u001b[0mdistplot\u001b[0m\u001b[0;34m(\u001b[0m\u001b[0mdata\u001b[0m\u001b[0;34m=\u001b[0m\u001b[0mresframe\u001b[0m\u001b[0;34m)\u001b[0m\u001b[0;34m\u001b[0m\u001b[0m\n\u001b[0m",
        "\u001b[0;31mTypeError\u001b[0m: distplot() got an unexpected keyword argument 'data'"
       ]
      }
     ],
     "prompt_number": 51
    },
    {
     "cell_type": "code",
     "collapsed": false,
     "input": [
      "#seaborn.distplot(res2[:,1],kde=False)\n",
      "plt.hist(res2[:,0], histtype='step',normed=True,bins=range(0,5),linewidth=1)"
     ],
     "language": "python",
     "metadata": {},
     "outputs": [
      {
       "metadata": {},
       "output_type": "pyout",
       "prompt_number": 52,
       "text": [
        "(array([ 0.65982991,  0.27513757,  0.05502751,  0.010005  ]),\n",
        " array([0, 1, 2, 3, 4]),\n",
        " <a list of 1 Patch objects>)"
       ]
      },
      {
       "metadata": {},
       "output_type": "display_data",
       "png": "[encoded data removed]",
       "text": [
        "<matplotlib.figure.Figure at 0x7fe9df1dca90>"
       ]
      }
     ],
     "prompt_number": 52
    },
    {
     "cell_type": "code",
     "collapsed": false,
     "input": [
      "resframe"
     ],
     "language": "python",
     "metadata": {},
     "outputs": [
      {
       "html": [
        "<div style=\"max-width:1500px;overflow:auto;\">\n",
        "<style>\n",
        "    .dataframe thead tr:only-child th {\n",
        "        text-align: right;\n",
        "    }\n",
        "\n",
        "    .dataframe thead th {\n",
        "        text-align: left;\n",
        "    }\n",
        "\n",
        "    .dataframe tbody tr th {\n",
        "        vertical-align: top;\n",
        "    }\n",
        "</style>\n",
        "<table border=\"1\" class=\"dataframe\">\n",
        "  <thead>\n",
        "    <tr style=\"text-align: right;\">\n",
        "      <th></th>\n",
        "      <th>doubles</th>\n",
        "      <th>triplets</th>\n",
        "    </tr>\n",
        "  </thead>\n",
        "  <tbody>\n",
        "    <tr>\n",
        "      <th>0</th>\n",
        "      <td>0.0</td>\n",
        "      <td>0.0</td>\n",
        "    </tr>\n",
        "    <tr>\n",
        "      <th>1</th>\n",
        "      <td>1.0</td>\n",
        "      <td>0.0</td>\n",
        "    </tr>\n",
        "    <tr>\n",
        "      <th>2</th>\n",
        "      <td>0.0</td>\n",
        "      <td>0.0</td>\n",
        "    </tr>\n",
        "    <tr>\n",
        "      <th>3</th>\n",
        "      <td>2.0</td>\n",
        "      <td>0.0</td>\n",
        "    </tr>\n",
        "    <tr>\n",
        "      <th>4</th>\n",
        "      <td>1.0</td>\n",
        "      <td>0.0</td>\n",
        "    </tr>\n",
        "    <tr>\n",
        "      <th>5</th>\n",
        "      <td>0.0</td>\n",
        "      <td>0.0</td>\n",
        "    </tr>\n",
        "    <tr>\n",
        "      <th>6</th>\n",
        "      <td>0.0</td>\n",
        "      <td>0.0</td>\n",
        "    </tr>\n",
        "    <tr>\n",
        "      <th>7</th>\n",
        "      <td>0.0</td>\n",
        "      <td>0.0</td>\n",
        "    </tr>\n",
        "    <tr>\n",
        "      <th>8</th>\n",
        "      <td>1.0</td>\n",
        "      <td>0.0</td>\n",
        "    </tr>\n",
        "    <tr>\n",
        "      <th>9</th>\n",
        "      <td>0.0</td>\n",
        "      <td>0.0</td>\n",
        "    </tr>\n",
        "    <tr>\n",
        "      <th>10</th>\n",
        "      <td>0.0</td>\n",
        "      <td>0.0</td>\n",
        "    </tr>\n",
        "    <tr>\n",
        "      <th>11</th>\n",
        "      <td>0.0</td>\n",
        "      <td>0.0</td>\n",
        "    </tr>\n",
        "    <tr>\n",
        "      <th>12</th>\n",
        "      <td>0.0</td>\n",
        "      <td>0.0</td>\n",
        "    </tr>\n",
        "    <tr>\n",
        "      <th>13</th>\n",
        "      <td>1.0</td>\n",
        "      <td>0.0</td>\n",
        "    </tr>\n",
        "    <tr>\n",
        "      <th>14</th>\n",
        "      <td>1.0</td>\n",
        "      <td>0.0</td>\n",
        "    </tr>\n",
        "    <tr>\n",
        "      <th>15</th>\n",
        "      <td>1.0</td>\n",
        "      <td>0.0</td>\n",
        "    </tr>\n",
        "    <tr>\n",
        "      <th>16</th>\n",
        "      <td>0.0</td>\n",
        "      <td>0.0</td>\n",
        "    </tr>\n",
        "    <tr>\n",
        "      <th>17</th>\n",
        "      <td>0.0</td>\n",
        "      <td>0.0</td>\n",
        "    </tr>\n",
        "    <tr>\n",
        "      <th>18</th>\n",
        "      <td>0.0</td>\n",
        "      <td>0.0</td>\n",
        "    </tr>\n",
        "    <tr>\n",
        "      <th>19</th>\n",
        "      <td>0.0</td>\n",
        "      <td>0.0</td>\n",
        "    </tr>\n",
        "    <tr>\n",
        "      <th>20</th>\n",
        "      <td>0.0</td>\n",
        "      <td>0.0</td>\n",
        "    </tr>\n",
        "    <tr>\n",
        "      <th>21</th>\n",
        "      <td>0.0</td>\n",
        "      <td>0.0</td>\n",
        "    </tr>\n",
        "    <tr>\n",
        "      <th>22</th>\n",
        "      <td>0.0</td>\n",
        "      <td>0.0</td>\n",
        "    </tr>\n",
        "    <tr>\n",
        "      <th>23</th>\n",
        "      <td>0.0</td>\n",
        "      <td>0.0</td>\n",
        "    </tr>\n",
        "    <tr>\n",
        "      <th>24</th>\n",
        "      <td>0.0</td>\n",
        "      <td>0.0</td>\n",
        "    </tr>\n",
        "    <tr>\n",
        "      <th>25</th>\n",
        "      <td>0.0</td>\n",
        "      <td>0.0</td>\n",
        "    </tr>\n",
        "    <tr>\n",
        "      <th>26</th>\n",
        "      <td>1.0</td>\n",
        "      <td>0.0</td>\n",
        "    </tr>\n",
        "    <tr>\n",
        "      <th>27</th>\n",
        "      <td>0.0</td>\n",
        "      <td>0.0</td>\n",
        "    </tr>\n",
        "    <tr>\n",
        "      <th>28</th>\n",
        "      <td>0.0</td>\n",
        "      <td>0.0</td>\n",
        "    </tr>\n",
        "    <tr>\n",
        "      <th>29</th>\n",
        "      <td>0.0</td>\n",
        "      <td>0.0</td>\n",
        "    </tr>\n",
        "    <tr>\n",
        "      <th>...</th>\n",
        "      <td>...</td>\n",
        "      <td>...</td>\n",
        "    </tr>\n",
        "    <tr>\n",
        "      <th>9970</th>\n",
        "      <td>0.0</td>\n",
        "      <td>0.0</td>\n",
        "    </tr>\n",
        "    <tr>\n",
        "      <th>9971</th>\n",
        "      <td>1.0</td>\n",
        "      <td>0.0</td>\n",
        "    </tr>\n",
        "    <tr>\n",
        "      <th>9972</th>\n",
        "      <td>0.0</td>\n",
        "      <td>0.0</td>\n",
        "    </tr>\n",
        "    <tr>\n",
        "      <th>9973</th>\n",
        "      <td>0.0</td>\n",
        "      <td>0.0</td>\n",
        "    </tr>\n",
        "    <tr>\n",
        "      <th>9974</th>\n",
        "      <td>0.0</td>\n",
        "      <td>0.0</td>\n",
        "    </tr>\n",
        "    <tr>\n",
        "      <th>9975</th>\n",
        "      <td>0.0</td>\n",
        "      <td>0.0</td>\n",
        "    </tr>\n",
        "    <tr>\n",
        "      <th>9976</th>\n",
        "      <td>1.0</td>\n",
        "      <td>0.0</td>\n",
        "    </tr>\n",
        "    <tr>\n",
        "      <th>9977</th>\n",
        "      <td>1.0</td>\n",
        "      <td>0.0</td>\n",
        "    </tr>\n",
        "    <tr>\n",
        "      <th>9978</th>\n",
        "      <td>0.0</td>\n",
        "      <td>0.0</td>\n",
        "    </tr>\n",
        "    <tr>\n",
        "      <th>9979</th>\n",
        "      <td>0.0</td>\n",
        "      <td>0.0</td>\n",
        "    </tr>\n",
        "    <tr>\n",
        "      <th>9980</th>\n",
        "      <td>0.0</td>\n",
        "      <td>0.0</td>\n",
        "    </tr>\n",
        "    <tr>\n",
        "      <th>9981</th>\n",
        "      <td>0.0</td>\n",
        "      <td>0.0</td>\n",
        "    </tr>\n",
        "    <tr>\n",
        "      <th>9982</th>\n",
        "      <td>0.0</td>\n",
        "      <td>0.0</td>\n",
        "    </tr>\n",
        "    <tr>\n",
        "      <th>9983</th>\n",
        "      <td>1.0</td>\n",
        "      <td>0.0</td>\n",
        "    </tr>\n",
        "    <tr>\n",
        "      <th>9984</th>\n",
        "      <td>0.0</td>\n",
        "      <td>0.0</td>\n",
        "    </tr>\n",
        "    <tr>\n",
        "      <th>9985</th>\n",
        "      <td>1.0</td>\n",
        "      <td>0.0</td>\n",
        "    </tr>\n",
        "    <tr>\n",
        "      <th>9986</th>\n",
        "      <td>1.0</td>\n",
        "      <td>0.0</td>\n",
        "    </tr>\n",
        "    <tr>\n",
        "      <th>9987</th>\n",
        "      <td>1.0</td>\n",
        "      <td>0.0</td>\n",
        "    </tr>\n",
        "    <tr>\n",
        "      <th>9988</th>\n",
        "      <td>0.0</td>\n",
        "      <td>0.0</td>\n",
        "    </tr>\n",
        "    <tr>\n",
        "      <th>9989</th>\n",
        "      <td>1.0</td>\n",
        "      <td>0.0</td>\n",
        "    </tr>\n",
        "    <tr>\n",
        "      <th>9990</th>\n",
        "      <td>0.0</td>\n",
        "      <td>0.0</td>\n",
        "    </tr>\n",
        "    <tr>\n",
        "      <th>9991</th>\n",
        "      <td>0.0</td>\n",
        "      <td>0.0</td>\n",
        "    </tr>\n",
        "    <tr>\n",
        "      <th>9992</th>\n",
        "      <td>0.0</td>\n",
        "      <td>0.0</td>\n",
        "    </tr>\n",
        "    <tr>\n",
        "      <th>9993</th>\n",
        "      <td>0.0</td>\n",
        "      <td>0.0</td>\n",
        "    </tr>\n",
        "    <tr>\n",
        "      <th>9994</th>\n",
        "      <td>0.0</td>\n",
        "      <td>0.0</td>\n",
        "    </tr>\n",
        "    <tr>\n",
        "      <th>9995</th>\n",
        "      <td>0.0</td>\n",
        "      <td>0.0</td>\n",
        "    </tr>\n",
        "    <tr>\n",
        "      <th>9996</th>\n",
        "      <td>0.0</td>\n",
        "      <td>0.0</td>\n",
        "    </tr>\n",
        "    <tr>\n",
        "      <th>9997</th>\n",
        "      <td>1.0</td>\n",
        "      <td>0.0</td>\n",
        "    </tr>\n",
        "    <tr>\n",
        "      <th>9998</th>\n",
        "      <td>0.0</td>\n",
        "      <td>0.0</td>\n",
        "    </tr>\n",
        "    <tr>\n",
        "      <th>9999</th>\n",
        "      <td>1.0</td>\n",
        "      <td>0.0</td>\n",
        "    </tr>\n",
        "  </tbody>\n",
        "</table>\n",
        "<p>10000 rows \u00d7 2 columns</p>\n",
        "</div>"
       ],
       "metadata": {},
       "output_type": "pyout",
       "prompt_number": 53,
       "text": [
        "      doubles  triplets\n",
        "0         0.0       0.0\n",
        "1         1.0       0.0\n",
        "2         0.0       0.0\n",
        "3         2.0       0.0\n",
        "4         1.0       0.0\n",
        "5         0.0       0.0\n",
        "6         0.0       0.0\n",
        "7         0.0       0.0\n",
        "8         1.0       0.0\n",
        "9         0.0       0.0\n",
        "10        0.0       0.0\n",
        "11        0.0       0.0\n",
        "12        0.0       0.0\n",
        "13        1.0       0.0\n",
        "14        1.0       0.0\n",
        "15        1.0       0.0\n",
        "16        0.0       0.0\n",
        "17        0.0       0.0\n",
        "18        0.0       0.0\n",
        "19        0.0       0.0\n",
        "20        0.0       0.0\n",
        "21        0.0       0.0\n",
        "22        0.0       0.0\n",
        "23        0.0       0.0\n",
        "24        0.0       0.0\n",
        "25        0.0       0.0\n",
        "26        1.0       0.0\n",
        "27        0.0       0.0\n",
        "28        0.0       0.0\n",
        "29        0.0       0.0\n",
        "...       ...       ...\n",
        "9970      0.0       0.0\n",
        "9971      1.0       0.0\n",
        "9972      0.0       0.0\n",
        "9973      0.0       0.0\n",
        "9974      0.0       0.0\n",
        "9975      0.0       0.0\n",
        "9976      1.0       0.0\n",
        "9977      1.0       0.0\n",
        "9978      0.0       0.0\n",
        "9979      0.0       0.0\n",
        "9980      0.0       0.0\n",
        "9981      0.0       0.0\n",
        "9982      0.0       0.0\n",
        "9983      1.0       0.0\n",
        "9984      0.0       0.0\n",
        "9985      1.0       0.0\n",
        "9986      1.0       0.0\n",
        "9987      1.0       0.0\n",
        "9988      0.0       0.0\n",
        "9989      1.0       0.0\n",
        "9990      0.0       0.0\n",
        "9991      0.0       0.0\n",
        "9992      0.0       0.0\n",
        "9993      0.0       0.0\n",
        "9994      0.0       0.0\n",
        "9995      0.0       0.0\n",
        "9996      0.0       0.0\n",
        "9997      1.0       0.0\n",
        "9998      0.0       0.0\n",
        "9999      1.0       0.0\n",
        "\n",
        "[10000 rows x 2 columns]"
       ]
      }
     ],
     "prompt_number": 53
    },
    {
     "cell_type": "code",
     "collapsed": false,
     "input": [
      "seaborn.set_context(\"talk\")\n",
      "a4_dims = (20,20)\n",
      "seaborn.set(style=\"whitegrid\", color_codes=True)\n",
      "fig, ax = plt.subplots(figsize=a4_dims)\n",
      "\n",
      "p1 = seaborn.violinplot(data=resframe, width = .8)\n",
      "#p1 = seaborn.boxplot(data=resframe)\n",
      "p2 = seaborn.pointplot(data=actualframe, linestyles='')\n",
      "\n",
      "\n",
      "p2.xaxis.set_visible(False)"
     ],
     "language": "python",
     "metadata": {},
     "outputs": [
      {
       "metadata": {},
       "output_type": "display_data",
       "png": "[encoded data removed]",
       "text": [
        "<matplotlib.figure.Figure at 0x7fe9d76a01d0>"
       ]
      }
     ],
     "prompt_number": 54
    },
    {
     "cell_type": "code",
     "collapsed": false,
     "input": [
      "seaborn.set_context(\"talk\")\n",
      "a4_dims = (11.7, 8.27)\n",
      "seaborn.set(style=\"whitegrid\", color_codes=True)\n",
      "fig, ax = plt.subplots(figsize=a4_dims)\n",
      "p1 = seaborn.violinplot(data=resframe[\"doubles\"], width = .8)\n",
      "p2 = seaborn.pointplot(data=actualframe[\"doubles\"], linestyles='')\n",
      "yint= range(0,19,2)\n",
      "p2.yaxis.set_ticks(yint)\n",
      "fig.savefig(\"doubles.pdf\",dpi=300)\n",
      "fig2, ax2 = plt.subplots(figsize=a4_dims)\n",
      "p1 = seaborn.violinplot(data=resframe[\"triplets\"], width = .8)\n",
      "p2 = seaborn.pointplot(data=actualframe[\"doubles\"], linestyles='')\n",
      "yint= range(0,19,2)\n",
      "p2.yaxis.set_ticks(yint)\n",
      "fig2.savefig(\"trips.pdf\",dpi=300)"
     ],
     "language": "python",
     "metadata": {},
     "outputs": [
      {
       "metadata": {},
       "output_type": "display_data",
       "png": "[encoded data removed]",
       "text": [
        "<matplotlib.figure.Figure at 0x7fc22610ba90>"
       ]
      },
      {
       "metadata": {},
       "output_type": "display_data",
       "png": "[encoded data removed]",
       "text": [
        "<matplotlib.figure.Figure at 0x7fc226045c50>"
       ]
      }
     ],
     "prompt_number": 382
    },
    {
     "cell_type": "code",
     "collapsed": false,
     "input": [
      "plt.hist("
     ],
     "language": "python",
     "metadata": {},
     "outputs": []
    },
    {
     "cell_type": "code",
     "collapsed": false,
     "input": [
      "# brute force debugging\n",
      "n_over = 0\n",
      "for i in range(len(GRC_IDS_TO_NAME.keys())):\n",
      "    skid = GRC_IDS_TO_NAME.keys()[i]\n",
      "    if skid in sk_list_new:\n",
      "        ind = np.where(sk_list_new == skid)[0][0]\n",
      "        row1 = adjacency_new[ind,:]\n",
      "        for j in range(i+1, len(GRC_IDS_TO_NAME.keys())):\n",
      "            skid2 = GRC_IDS_TO_NAME.keys()[j]\n",
      "            if skid2 in sk_list_new :\n",
      "                ind2 = np.where(sk_list_new == skid2)[0][0]\n",
      "                row2 = adjacency_new[ind2,:]\n",
      "                n_shared = np.vdot(row1,row2)\n",
      "                if( n_shared > 1 ):\n",
      "                    n_over += n_shared-1\n",
      "                    #print \"GRC A: %s\" % GRC_IDS_TO_NAME[skid]['name']\n",
      "                    #print \"GRC B: %s\" % GRC_IDS_TO_NAME[skid2]['name']\n",
      "                    #print \"N_SHARED: %d\" % n_shared\n",
      "print n_over"
     ],
     "language": "python",
     "metadata": {},
     "outputs": [
      {
       "output_type": "stream",
       "stream": "stdout",
       "text": [
        "18.0\n"
       ]
      }
     ],
     "prompt_number": 33
    },
    {
     "cell_type": "code",
     "collapsed": false,
     "input": [
      "#brute force debugging\n",
      "n_over = 0\n",
      "for i in range(len(MF_IDS_TO_NAME.keys())):\n",
      "    skid = MF_IDS_TO_NAME.keys()[i]\n",
      "    if skid in sk_list_new:\n",
      "        ind = np.where(sk_list_new == skid)[0][0]\n",
      "        row1 = adjacency_new[ind,:]\n",
      "        for j in range(i+1, len(MF_IDS_TO_NAME.keys())):\n",
      "            skid2 = MF_IDS_TO_NAME.keys()[j]\n",
      "            if skid2 in sk_list_new :\n",
      "                ind2 = np.where(sk_list_new == skid2)[0][0]\n",
      "                row2 = adjacency_new[ind2,:]\n",
      "                n_shared = np.vdot(row1,row2)\n",
      "                if( n_shared > 1 ):\n",
      "                    if( n_shared == 2 ):\n",
      "                        n_over += 1\n",
      "                    elif( n_shared == 3 ):\n",
      "                        n_over += 3\n",
      "                    #print \"MF A: %s\" % MF_IDS_TO_NAME[skid]['name']\n",
      "                    #print \"MF B: %s\" % MF_IDS_TO_NAME[skid2]['name']\n",
      "                    #print \"N_SHARED: %d\" % n_shared\n",
      "print n_over"
     ],
     "language": "python",
     "metadata": {},
     "outputs": [
      {
       "output_type": "stream",
       "stream": "stdout",
       "text": [
        "18\n"
       ]
      }
     ],
     "prompt_number": 32
    },
    {
     "cell_type": "code",
     "collapsed": false,
     "input": [
      "#calculation for how much is used space\n",
      "top_left = None\n",
      "bot_right = None\n",
      "for skid in GRC_IDS_TO_NAME:\n",
      "    soma = GRC_IDS_TO_NAME[skid]['soma']\n",
      "    if top_left is None:\n",
      "        top_left = soma[0:2]\n",
      "    if bot_right is None:\n",
      "        bot_right = soma[0:2]\n",
      "    bot_right = np.maximum(bot_right, soma[0:2])\n",
      "    top_left = np.minimum(top_left, soma[0:2])\n",
      "print top_left -50000\n",
      "print bot_right +50000\n",
      "dims = bot_right - top_left\n",
      "dims"
     ],
     "language": "python",
     "metadata": {},
     "outputs": [
      {
       "output_type": "stream",
       "stream": "stdout",
       "text": [
        "[ 343352.  286488.]\n",
        "[ 595071.  481691.]\n"
       ]
      },
      {
       "metadata": {},
       "output_type": "pyout",
       "prompt_number": 114,
       "text": [
        "1373408"
       ]
      }
     ],
     "prompt_number": 114
    },
    {
     "cell_type": "code",
     "collapsed": false,
     "input": [
      "np.random.random()"
     ],
     "language": "python",
     "metadata": {},
     "outputs": [
      {
       "metadata": {},
       "output_type": "pyout",
       "prompt_number": 144,
       "text": [
        "0.24000422255456755"
       ]
      }
     ],
     "prompt_number": 144
    },
    {
     "cell_type": "code",
     "collapsed": false,
     "input": [
      "a = [1,2,3]\n",
      "b= np.cumsum(a)\n",
      "print b\n",
      "bisect.bisect_right(b,7)"
     ],
     "language": "python",
     "metadata": {},
     "outputs": [
      {
       "output_type": "stream",
       "stream": "stdout",
       "text": [
        "[1 3 6]\n"
       ]
      },
      {
       "metadata": {},
       "output_type": "pyout",
       "prompt_number": 143,
       "text": [
        "3"
       ]
      }
     ],
     "prompt_number": 143
    },
    {
     "cell_type": "code",
     "collapsed": false,
     "input": [
      "a[2:]"
     ],
     "language": "python",
     "metadata": {},
     "outputs": [
      {
       "metadata": {},
       "output_type": "pyout",
       "prompt_number": 147,
       "text": [
        "[3]"
       ]
      }
     ],
     "prompt_number": 147
    },
    {
     "cell_type": "code",
     "collapsed": false,
     "input": [
      "np.maximum(a,b)"
     ],
     "language": "python",
     "metadata": {},
     "outputs": [
      {
       "metadata": {},
       "output_type": "pyout",
       "prompt_number": 80,
       "text": [
        "array([3, 2])"
       ]
      }
     ],
     "prompt_number": 80
    },
    {
     "cell_type": "code",
     "collapsed": false,
     "input": [
      "None in []"
     ],
     "language": "python",
     "metadata": {},
     "outputs": [
      {
       "metadata": {},
       "output_type": "pyout",
       "prompt_number": 145,
       "text": [
        "False"
       ]
      }
     ],
     "prompt_number": 145
    },
    {
     "cell_type": "code",
     "collapsed": false,
     "input": [],
     "language": "python",
     "metadata": {},
     "outputs": []
    }
   ],
   "metadata": {}
  }
 ]
}