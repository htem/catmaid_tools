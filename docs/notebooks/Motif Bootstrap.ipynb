{
 "metadata": {
  "name": ""
 },
 "nbformat": 3,
 "nbformat_minor": 0,
 "worksheets": [
  {
   "cells": [
    {
     "cell_type": "code",
     "collapsed": false,
     "input": [
      "%matplotlib inline\n",
      "import catmaid\n",
      "import numpy as np\n",
      "import matplotlib.pyplot as plt\n",
      "from mpl_toolkits.mplot3d import Axes3D\n",
      "from scipy.special import comb\n",
      "import bisect\n"
     ],
     "language": "python",
     "metadata": {},
     "outputs": [],
     "prompt_number": 1
    },
    {
     "cell_type": "code",
     "collapsed": false,
     "input": [
      "c = catmaid.connect()\n",
      "src = catmaid.get_source( skel_source = c )\n",
      "\n",
      "nid_to_sid = c.nid_to_sid_map()\n",
      "sid_to_nid = c.sid_to_nid_map()"
     ],
     "language": "python",
     "metadata": {},
     "outputs": [
      {
       "output_type": "stream",
       "stream": "stdout",
       "text": [
        "['QT_QPA_PLATFORMTHEME', 'XDG_GREETER_DATA_DIR', 'GNOME_DESKTOP_SESSION_ID', 'LESSOPEN', 'CATMAID_USER', 'QT_IM_MODULE', 'LOGNAME', 'WINDOWID', 'PATH', 'XDG_VTNR', 'GNOME_KEYRING_CONTROL', 'PS1', 'LD_LIBRARY_PATH', 'LANG', 'TERM', 'SHELL', 'XDG_SESSION_PATH', 'XAUTHORITY', 'LANGUAGE', 'SESSION_MANAGER', 'SHLVL', 'MANDATORY_PATH', 'CLUTTER_IM_MODULE', 'DISPLAY', 'QT4_IM_MODULE', 'JOB', 'TEXTDOMAIN', 'SESSIONTYPE', 'XMODIFIERS', 'GPG_AGENT_INFO', 'HOME', 'SELINUX_INIT', 'SSH_AUTH_SOCK', 'XDG_RUNTIME_DIR', 'GTK_IM_MODULE', 'COMPIZ_CONFIG_PROFILE', 'COMPIZ_BIN_PATH', 'VIRTUAL_ENV', 'VTE_VERSION', 'GDMSESSION', 'IM_CONFIG_PHASE', 'CATMAID_SERVER', 'GIT_PAGER', 'XDG_DATA_DIRS', 'XDG_SEAT_PATH', 'XDG_CONFIG_DIRS', 'XDG_CURRENT_DESKTOP', 'XDG_SESSION_ID', 'DBUS_SESSION_BUS_ADDRESS', '_', 'DEFAULTS_PATH', 'SESSION', 'DESKTOP_SESSION', 'UPSTART_SESSION', 'LESSCLOSE', 'GNOME_KEYRING_PID', 'XDG_SEAT', 'OLDPWD', 'CATMAID_PROJECT', 'GDM_LANG', 'GTK_MODULES', 'INSTANCE', 'PWD', 'TEXTDOMAINDIR', 'COLORTERM', 'CATMAID_PASSWORD', 'XDG_MENU_PREFIX', 'CLICOLOR', 'LS_COLORS', 'PAGER', 'USER']\n",
        "<catmaid.connection.Connection instance at 0x7f4226d73680>"
       ]
      },
      {
       "output_type": "stream",
       "stream": "stderr",
       "text": [
        "INFO:catmaid.source:Attemping to connect to a ServerSource\n"
       ]
      },
      {
       "output_type": "stream",
       "stream": "stdout",
       "text": [
        "\n"
       ]
      }
     ],
     "prompt_number": 5
    },
    {
     "cell_type": "code",
     "collapsed": false,
     "input": [
      "js = c.fetchJSON('{}{}'.format(c.server,'40/search?pid=40&substring=GRC'))\n",
      "GRC_IDS_TO_NAME = dict()\n",
      "for j in js:\n",
      "    if j['class_name']=='neuron':\n",
      "        if( len(nid_to_sid[j['id']]) > 1 ):\n",
      "            print j['id']\n",
      "        skid = nid_to_sid[j['id']][0]\n",
      "        nr = src.get_neuron(skid)\n",
      "        if( nr.soma is not None ):\n",
      "            GRC_IDS_TO_NAME[skid] = {'name': j['name'], 'color': len(GRC_IDS_TO_NAME.keys())}\n",
      "            s = nr.nodes[nr.soma]\n",
      "            GRC_IDS_TO_NAME[skid]['soma'] =  np.asarray([s['x'],s['y'],s['z']])\n",
      "\n",
      "print \"Number of GRCs included: \", len(GRC_IDS_TO_NAME)\n",
      "\n",
      "MF_IDS_TO_NAME =  dict()\n",
      "js = c.fetchJSON('{}{}'.format(c.server,'40/search?pid=40&substring=MF'))\n",
      "for j in js:\n",
      "    if j['class_name']=='neuron':\n",
      "        MF_IDS_TO_NAME[nid_to_sid[j['id']][0]] = {'name': j['name'], 'color': len(MF_IDS_TO_NAME.keys())}\n",
      "print \"Number of MFs included: \", len(MF_IDS_TO_NAME)"
     ],
     "language": "python",
     "metadata": {},
     "outputs": [
      {
       "output_type": "stream",
       "stream": "stdout",
       "text": [
        "Number of GRCs included:  51\n",
        "Number of MFs included: "
       ]
      },
      {
       "output_type": "stream",
       "stream": "stdout",
       "text": [
        " 42\n"
       ]
      }
     ],
     "prompt_number": 385
    },
    {
     "cell_type": "code",
     "collapsed": false,
     "input": [
      "# adjacency to numpy matrix\n",
      "adj = c.adjacency_matrix()\n",
      "sk_list = np.asarray(adj[1])\n",
      "\n",
      "adjacency = np.zeros((len(adj[0]),len(adj[0])))\n",
      "for i in range(len(adj[0])):\n",
      "    adjacency[i,:] = adj[0][i]\n",
      "\n",
      "#limit skels to GRC and MFs\n",
      "mfs_and_grcs = MF_IDS_TO_NAME.keys() + GRC_IDS_TO_NAME.keys()\n",
      "\n",
      "keep_list = np.asarray([ s in mfs_and_grcs for s in sk_list ])\n",
      "\n",
      "sk_list_new = sk_list[keep_list]\n",
      "adjacency_new = adjacency[:,keep_list]\n",
      "adjacency_new = adjacency_new[keep_list]\n",
      "adjacency_new = adjacency_new + adjacency_new.transpose()\n",
      "# make it unweighted\n",
      "adjacency_new[adjacency_new > 0] = 1 "
     ],
     "language": "python",
     "metadata": {},
     "outputs": [],
     "prompt_number": 386
    },
    {
     "cell_type": "code",
     "collapsed": false,
     "input": [
      "# add the number of connections to our GRC_IDS_TO_NAME dict\n",
      "for skid in GRC_IDS_TO_NAME.keys():\n",
      "    if skid not in sk_list_new:\n",
      "        print skid\n",
      "        del GRC_IDS_TO_NAME[skid]\n",
      "\n",
      "for i in range(len(sk_list_new)):\n",
      "    skid = sk_list_new[i]\n",
      "    if skid in GRC_IDS_TO_NAME.keys():\n",
      "        GRC_IDS_TO_NAME[skid]['num_connections'] = adjacency_new[i,:].sum()"
     ],
     "language": "python",
     "metadata": {},
     "outputs": [
      {
       "output_type": "stream",
       "stream": "stdout",
       "text": [
        "674904\n"
       ]
      }
     ],
     "prompt_number": 387
    },
    {
     "cell_type": "code",
     "collapsed": false,
     "input": [
      "# if you square the adjacency matrix a(i,j) is the number of 2 cycles to get from i to j\n",
      "# we can ignore diagonal things as they just report the number of neighbors\n",
      "asquared = np.matmul(adjacency_new, adjacency_new.copy())\n",
      "np.fill_diagonal(asquared, 0)\n",
      "# limit asquared to the mossy fibres\n",
      "keep_list_new = np.asarray([s in MF_IDS_TO_NAME.keys() for s in sk_list_new])\n",
      "mf_list = sk_list_new[keep_list_new]\n",
      "mf_adjacency = asquared[:,keep_list_new][keep_list_new]\n",
      "\n",
      "grc_keep_list = np.asarray([s in GRC_IDS_TO_NAME.keys() for s in sk_list_new])\n",
      "grc_list = sk_list_new[grc_keep_list]\n",
      "grc_adjacency = asquared[:,grc_keep_list][grc_keep_list]\n",
      "\n",
      "# take how many pairs are present in each adjacency matrix (should be identical)\n",
      "mf_adjacency[mf_adjacency > 0] = comb(mf_adjacency[mf_adjacency > 0],2)\n",
      "grc_adjacency[grc_adjacency > 0] = comb(grc_adjacency[grc_adjacency > 0],2)"
     ],
     "language": "python",
     "metadata": {},
     "outputs": [],
     "prompt_number": 388
    },
    {
     "cell_type": "code",
     "collapsed": false,
     "input": [
      "grc_adjacency.sum()/2"
     ],
     "language": "python",
     "metadata": {},
     "outputs": [
      {
       "metadata": {},
       "output_type": "pyout",
       "prompt_number": 389,
       "text": [
        "17.0"
       ]
      }
     ],
     "prompt_number": 389
    },
    {
     "cell_type": "code",
     "collapsed": false,
     "input": [
      "# there are 18 redundant pairs (including those involved in the triplets)\n",
      "mf_adjacency.sum() / 2"
     ],
     "language": "python",
     "metadata": {},
     "outputs": [
      {
       "metadata": {},
       "output_type": "pyout",
       "prompt_number": 390,
       "text": [
        "17.0"
       ]
      }
     ],
     "prompt_number": 390
    },
    {
     "cell_type": "code",
     "collapsed": false,
     "input": [
      "# this is how many triplets there are\n",
      "print \"Num Redundant Triplets: \", (mf_adjacency == 3).sum() / 2\n",
      "for i in range(len(mf_list)):\n",
      "    trip_partners = mf_list[i:][mf_adjacency[i,i:]==3]\n",
      "    for sk in trip_partners:\n",
      "        print \"+++++++++++++++++++++++++++++++\"\n",
      "        print MF_IDS_TO_NAME[mf_list[i]]['name']\n",
      "        print MF_IDS_TO_NAME[sk]['name']"
     ],
     "language": "python",
     "metadata": {},
     "outputs": [
      {
       "output_type": "stream",
       "stream": "stdout",
       "text": [
        "Num Redundant Triplets:  3\n",
        "+++++++++++++++++++++++++++++++\n",
        "MF1\n",
        "MF8\n",
        "+++++++++++++++++++++++++++++++\n",
        "MF6\n",
        "MF24\n",
        "+++++++++++++++++++++++++++++++\n",
        "MF6\n",
        "MF35\n"
       ]
      }
     ],
     "prompt_number": 391
    },
    {
     "cell_type": "code",
     "collapsed": false,
     "input": [
      "nr = src.get_neuron(grc_list[0])\n",
      "nr.nodes[nr.soma]"
     ],
     "language": "python",
     "metadata": {},
     "outputs": [
      {
       "metadata": {},
       "output_type": "pyout",
       "prompt_number": 166,
       "text": [
        "{'confidence': 5,\n",
        " 'labels': [u'soma', u'GC'],\n",
        " 'radius': 3597.0,\n",
        " 'type': 'skeleton',\n",
        " 'x': 470328.0,\n",
        " 'y': 393654.0,\n",
        " 'z': 9600.0}"
       ]
      }
     ],
     "prompt_number": 166
    },
    {
     "cell_type": "code",
     "collapsed": false,
     "input": [
      "\n",
      "adjacency_new.sum()/2"
     ],
     "language": "python",
     "metadata": {},
     "outputs": [
      {
       "metadata": {},
       "output_type": "pyout",
       "prompt_number": 373,
       "text": [
        "104.0"
       ]
      }
     ],
     "prompt_number": 373
    },
    {
     "cell_type": "markdown",
     "metadata": {},
     "source": [
      "##Bootstrapping\n",
      "\n",
      "Here on out will be generation and execution of bootstrapping"
     ]
    },
    {
     "cell_type": "code",
     "collapsed": false,
     "input": [
      "# here is where we will calculate mf_density\n",
      "traced_size = (99000-117000)*(86800-97200)\n",
      "total_size =  50800. *42634. \n",
      "print \"Percent Width: \", (-99000+117000) / 50800.\n",
      "print \"Percent Height: \", (-86800+97200) / 42634.\n",
      "print \"Percent Volume: \", traced_size / total_size"
     ],
     "language": "python",
     "metadata": {},
     "outputs": [
      {
       "output_type": "stream",
       "stream": "stdout",
       "text": [
        "Percent Width:  0.354330708661\n",
        "Percent Height:  0.243936764085\n",
        "Percent Volume:  0.0864342864868\n"
       ]
      }
     ],
     "prompt_number": 117
    },
    {
     "cell_type": "code",
     "collapsed": false,
     "input": [
      "top_left = np.array([93200*4,80920*4,0])\n",
      "bot_right = np.array([144000*4,123554*4,511*4])"
     ],
     "language": "python",
     "metadata": {},
     "outputs": [],
     "prompt_number": 125
    },
    {
     "cell_type": "code",
     "collapsed": false,
     "input": [
      "#calculate the total MFS in the volume\n",
      "mf_density = 37. / traced_size\n",
      "n_GRC = len(GRC_IDS_TO_NAME.keys())\n",
      "n_MF = int(mf_density * total_size)"
     ],
     "language": "python",
     "metadata": {},
     "outputs": [],
     "prompt_number": 177
    },
    {
     "cell_type": "code",
     "collapsed": false,
     "input": [
      "#probabilty function from other ipython notebook \n",
      "import scipy.stats as scp\n",
      "\n",
      "def get_probability_of_connection(distance):\n",
      "    ## Normal distribution\n",
      "    norm = scp.norm\n",
      "    return norm.pdf(distance, *(27185.23, 14081.168))\n",
      "    \n",
      "    ## Skewed normal\n",
      "   # sknorm = scp.skewnorm\n",
      "    #return sknorm.pdf(distance, *(15.386934490621211, 8005.6679559274198, 23800.766604448785))\n",
      "\n",
      "  #  # Gamma\n",
      "   # gamma = scp.gamma\n",
      "   # return gamma.pdf(distance, *(2.1942817064071241, 5331.9593408854398, 9960.0717790948966) )\n",
      "# this was fit the the squared distance, the exponential function looks nice\n",
      "#probably not very accurate though...\n",
      "#    return exp_func(distance*distance, 0.0083326593928,0.1122787759223,-1.3029078315867893e-9)"
     ],
     "language": "python",
     "metadata": {},
     "outputs": [],
     "prompt_number": 214
    },
    {
     "cell_type": "code",
     "collapsed": false,
     "input": [
      "# this function will return the number of pairs and triplets it detects\n",
      "def bootstrap( grcs, num_mf ):\n",
      "    # first we randomly distribute the MFs\n",
      "    grc_ids = np.arange(len(grcs))\n",
      "    \n",
      "    mf_ids = np.arange(len(grcs),len(grcs)+ num_mf)\n",
      "    mf_centers = np.zeros((num_mf,3))\n",
      "    for i in range(num_mf):\n",
      "        center = np.random.random(3)*(bot_right - top_left) + top_left\n",
      "        mf_centers[i,:] = center\n",
      "        \n",
      "    #bootstrap skelIds are just arange, first n_grcs are the Grcs\n",
      "    # second num_mf are the MFs\n",
      "    num_skels = len(grcs) + num_mf\n",
      "    b_skels = np.arange(num_skels)\n",
      "    b_adj = np.zeros((num_skels,num_skels))\n",
      "    \n",
      "    for i in range(len(grcs)):\n",
      "        dict_entry = grcs[grcs.keys()[i]]\n",
      "        soma = dict_entry['soma']\n",
      "        probabilites = np.zeros(num_mf)\n",
      "        for j in range(num_mf):\n",
      "            dif = soma - mf_centers[j]\n",
      "            probabilites[j] = get_probability_of_connection(np.sqrt(np.vdot(dif,dif)))\n",
      "        \n",
      "        #cumulative probability buildup\n",
      "        probabilites = np.cumsum(probabilites)\n",
      "        \n",
      "        n_connect = dict_entry['num_connections']\n",
      "        inds_used = []\n",
      "        for j in range(int(n_connect)):\n",
      "            ind = bisect.bisect_right(probabilites,np.random.random()*probabilites.max())\n",
      "            while ind in inds_used:\n",
      "                ind = bisect.bisect_right(probabilites,np.random.random()*probabilites.max())\n",
      "           # dif = soma - mf_centers[ind]\n",
      "            #print np.sqrt(np.vdot(dif,dif))\n",
      "            skid = mf_ids[ind]\n",
      "            # lets keep it symmetric\n",
      "            b_adj[i,skid] = 1\n",
      "            b_adj[skid,i] = 1\n",
      "    \n",
      "    \n",
      "    # now do analysis\n",
      "    # if you square the adjacency matrix a(i,j) is the number of 2 cycles to get from i to j\n",
      "    # we can ignore diagonal things as they just report the number of neighbors\n",
      "    b_adj_squared = np.matmul(b_adj, b_adj.copy())\n",
      "    np.fill_diagonal(b_adj_squared, 0)\n",
      "    \n",
      "    # limit asquared to the mossy fibres\n",
      "    b_mf_adjacency = b_adj_squared[:,len(grcs):][len(grcs):]\n",
      "    b_grc_adjacency = b_adj_squared[:,:len(grcs)][:len(grcs)]\n",
      "    \n",
      "    # take how many pairs are present in each adjacency matrix (should be identical)\n",
      "    b_mf_adjacency[b_mf_adjacency > 0] = comb(b_mf_adjacency[b_mf_adjacency > 0],2)\n",
      "    b_grc_adjacency[b_grc_adjacency > 0] = comb(b_grc_adjacency[b_grc_adjacency > 0],2)\n",
      "\n",
      "    n_doubles = b_mf_adjacency.sum() / 2\n",
      "    n_triples = (b_mf_adjacency == 3).sum() / 2\n",
      "\n",
      "    return n_doubles, n_triples\n",
      "    \n",
      "bootstrap(GRC_IDS_TO_NAME, n_MF)"
     ],
     "language": "python",
     "metadata": {},
     "outputs": [
      {
       "metadata": {},
       "output_type": "pyout",
       "prompt_number": 219,
       "text": [
        "(1.0, 0)"
       ]
      }
     ],
     "prompt_number": 219
    },
    {
     "cell_type": "code",
     "collapsed": false,
     "input": [
      "results = np.zeros((10000,2))\n",
      "for i in range(10000):\n",
      "    results[i,:] = bootstrap(GRC_IDS_TO_NAME, n_MF)\n",
      "np.savetxt(\"bootstrap_norm_10000.csv\",results)\n"
     ],
     "language": "python",
     "metadata": {},
     "outputs": [],
     "prompt_number": 216
    },
    {
     "cell_type": "code",
     "collapsed": false,
     "input": [
      "scp.describe(results)"
     ],
     "language": "python",
     "metadata": {},
     "outputs": [
      {
       "metadata": {},
       "output_type": "pyout",
       "prompt_number": 217,
       "text": [
        "DescribeResult(nobs=10000, minmax=(array([ 0.,  0.]), array([ 4.,  1.])), mean=array([ 0.1483,  0.0005]), variance=array([ 0.1539225,  0.0004998]), skewness=array([  2.81827051,  44.68781154]), kurtosis=array([    9.11467584,  1995.00050025]))"
       ]
      }
     ],
     "prompt_number": 217
    },
    {
     "cell_type": "code",
     "collapsed": false,
     "input": [
      "res2 = np.genfromtxt(\"bootstrap_norm_10000.csv\")\n"
     ],
     "language": "python",
     "metadata": {},
     "outputs": [],
     "prompt_number": 234
    },
    {
     "cell_type": "code",
     "collapsed": false,
     "input": [
      "for i in range(0,5):\n",
      "    print \"%d Doubles: \\t%d \\t| %d Triples: %d\"%(i, sum(res2==i)[0],i, sum(res2==i)[1]) "
     ],
     "language": "python",
     "metadata": {},
     "outputs": [
      {
       "output_type": "stream",
       "stream": "stdout",
       "text": [
        "0 Doubles: \t8638 \t| 0 Triples: 9995\n",
        "1 Doubles: \t1257 \t| 1 Triples: 5\n",
        "2 Doubles: \t90 \t| 2 Triples: 0\n",
        "3 Doubles: \t14 \t| 3 Triples: 0"
       ]
      },
      {
       "output_type": "stream",
       "stream": "stdout",
       "text": [
        "\n",
        "4 Doubles: \t1 \t| 4 Triples: 0\n"
       ]
      }
     ],
     "prompt_number": 251
    },
    {
     "cell_type": "markdown",
     "metadata": {},
     "source": [
      "## Debug code\n",
      "\n",
      "nothing good below this point"
     ]
    },
    {
     "cell_type": "code",
     "collapsed": false,
     "input": [
      "import seaborn\n",
      "import pandas as pd\n",
      "resframe = pd.DataFrame({ \"doubles\": res2[:,0], \"triplets\": res2[:,1]})\n",
      "actualframe = pd.DataFrame({\"doubles\": [17], \"triplets\": 3})\n",
      "\n",
      "seaborn.distplot(data=resframe)"
     ],
     "language": "python",
     "metadata": {},
     "outputs": [
      {
       "ename": "TypeError",
       "evalue": "distplot() got an unexpected keyword argument 'data'",
       "output_type": "pyerr",
       "traceback": [
        "\u001b[0;31m---------------------------------------------------------------------------\u001b[0m\n\u001b[0;31mTypeError\u001b[0m                                 Traceback (most recent call last)",
        "\u001b[0;32m<ipython-input-295-38b923ab82ea>\u001b[0m in \u001b[0;36m<module>\u001b[0;34m()\u001b[0m\n\u001b[1;32m      4\u001b[0m \u001b[0mactualframe\u001b[0m \u001b[0;34m=\u001b[0m \u001b[0mpd\u001b[0m\u001b[0;34m.\u001b[0m\u001b[0mDataFrame\u001b[0m\u001b[0;34m(\u001b[0m\u001b[0;34m{\u001b[0m\u001b[0;34m\"doubles\"\u001b[0m\u001b[0;34m:\u001b[0m \u001b[0;34m[\u001b[0m\u001b[0;36m17\u001b[0m\u001b[0;34m]\u001b[0m\u001b[0;34m,\u001b[0m \u001b[0;34m\"triplets\"\u001b[0m\u001b[0;34m:\u001b[0m \u001b[0;36m3\u001b[0m\u001b[0;34m}\u001b[0m\u001b[0;34m)\u001b[0m\u001b[0;34m\u001b[0m\u001b[0m\n\u001b[1;32m      5\u001b[0m \u001b[0;34m\u001b[0m\u001b[0m\n\u001b[0;32m----> 6\u001b[0;31m \u001b[0mseaborn\u001b[0m\u001b[0;34m.\u001b[0m\u001b[0mdistplot\u001b[0m\u001b[0;34m(\u001b[0m\u001b[0mdata\u001b[0m\u001b[0;34m=\u001b[0m\u001b[0mresframe\u001b[0m\u001b[0;34m)\u001b[0m\u001b[0;34m\u001b[0m\u001b[0m\n\u001b[0m",
        "\u001b[0;31mTypeError\u001b[0m: distplot() got an unexpected keyword argument 'data'"
       ]
      }
     ],
     "prompt_number": 295
    },
    {
     "cell_type": "code",
     "collapsed": false,
     "input": [
      "#seaborn.distplot(res2[:,1],kde=False)\n",
      "plt.hist(res2[:,0], histtype='step',normed=True,bins=range(0,5),linewidth=1)"
     ],
     "language": "python",
     "metadata": {},
     "outputs": [
      {
       "metadata": {},
       "output_type": "pyout",
       "prompt_number": 372,
       "text": [
        "(array([ 0.8638,  0.1257,  0.009 ,  0.0015]),\n",
        " array([0, 1, 2, 3, 4]),\n",
        " <a list of 1 Patch objects>)"
       ]
      },
      {
       "metadata": {},
       "output_type": "display_data",
       "png": "[encoded data removed]",
       "text": [
        "<matplotlib.figure.Figure at 0x7fc2274ce290>"
       ]
      }
     ],
     "prompt_number": 372
    },
    {
     "cell_type": "code",
     "collapsed": false,
     "input": [
      "seaborn.set_context(\"talk\")\n",
      "a4_dims = (20,20)\n",
      "seaborn.set(style=\"whitegrid\", color_codes=True)\n",
      "fig, ax = plt.subplots(figsize=a4_dims)\n",
      "\n",
      "p1 = seaborn.violinplot(data=resframe, width = .8)\n",
      "#p1 = seaborn.boxplot(data=resframe)\n",
      "p2 = seaborn.pointplot(data=actualframe, linestyles='')\n",
      "yint= range(0,19,2)\n",
      "\n",
      "p2.yaxis.set_ticks(yint)\n",
      "p2.xaxis.set_visible(False)"
     ],
     "language": "python",
     "metadata": {},
     "outputs": [
      {
       "metadata": {},
       "output_type": "display_data",
       "png": "[encoded data removed]",
       "text": [
        "<matplotlib.figure.Figure at 0x7fc22681ccd0>"
       ]
      }
     ],
     "prompt_number": 376
    },
    {
     "cell_type": "code",
     "collapsed": false,
     "input": [
      "seaborn.set_context(\"talk\")\n",
      "a4_dims = (11.7, 8.27)\n",
      "seaborn.set(style=\"whitegrid\", color_codes=True)\n",
      "fig, ax = plt.subplots(figsize=a4_dims)\n",
      "p1 = seaborn.violinplot(data=resframe[\"doubles\"], width = .8)\n",
      "p2 = seaborn.pointplot(data=actualframe[\"doubles\"], linestyles='')\n",
      "yint= range(0,19,2)\n",
      "p2.yaxis.set_ticks(yint)\n",
      "fig.savefig(\"doubles.pdf\",dpi=300)\n",
      "fig2, ax2 = plt.subplots(figsize=a4_dims)\n",
      "p1 = seaborn.violinplot(data=resframe[\"triplets\"], width = .8)\n",
      "p2 = seaborn.pointplot(data=actualframe[\"doubles\"], linestyles='')\n",
      "yint= range(0,19,2)\n",
      "p2.yaxis.set_ticks(yint)\n",
      "fig2.savefig(\"trips.pdf\",dpi=300)"
     ],
     "language": "python",
     "metadata": {},
     "outputs": [
      {
       "metadata": {},
       "output_type": "display_data",
       "png": "[encoded data removed]",
       "text": [
        "<matplotlib.figure.Figure at 0x7fc22610ba90>"
       ]
      },
      {
       "metadata": {},
       "output_type": "display_data",
       "png": "[encoded data removed]",
       "text": [
        "<matplotlib.figure.Figure at 0x7fc226045c50>"
       ]
      }
     ],
     "prompt_number": 382
    },
    {
     "cell_type": "code",
     "collapsed": false,
     "input": [
      "plt.hist("
     ],
     "language": "python",
     "metadata": {},
     "outputs": []
    },
    {
     "cell_type": "code",
     "collapsed": false,
     "input": [
      "# brute force debugging\n",
      "n_over = 0\n",
      "for i in range(len(GRC_IDS_TO_NAME.keys())):\n",
      "    skid = GRC_IDS_TO_NAME.keys()[i]\n",
      "    if skid in sk_list_new:\n",
      "        ind = np.where(sk_list_new == skid)[0][0]\n",
      "        row1 = adjacency_new[ind,:]\n",
      "        for j in range(i+1, len(GRC_IDS_TO_NAME.keys())):\n",
      "            skid2 = GRC_IDS_TO_NAME.keys()[j]\n",
      "            if skid2 in sk_list_new :\n",
      "                ind2 = np.where(sk_list_new == skid2)[0][0]\n",
      "                row2 = adjacency_new[ind2,:]\n",
      "                n_shared = np.vdot(row1,row2)\n",
      "                if( n_shared > 1 ):\n",
      "                    n_over += n_shared-1\n",
      "                    #print \"GRC A: %s\" % GRC_IDS_TO_NAME[skid]['name']\n",
      "                    #print \"GRC B: %s\" % GRC_IDS_TO_NAME[skid2]['name']\n",
      "                    #print \"N_SHARED: %d\" % n_shared\n",
      "print n_over"
     ],
     "language": "python",
     "metadata": {},
     "outputs": [
      {
       "output_type": "stream",
       "stream": "stdout",
       "text": [
        "18.0\n"
       ]
      }
     ],
     "prompt_number": 33
    },
    {
     "cell_type": "code",
     "collapsed": false,
     "input": [
      "#brute force debugging\n",
      "n_over = 0\n",
      "for i in range(len(MF_IDS_TO_NAME.keys())):\n",
      "    skid = MF_IDS_TO_NAME.keys()[i]\n",
      "    if skid in sk_list_new:\n",
      "        ind = np.where(sk_list_new == skid)[0][0]\n",
      "        row1 = adjacency_new[ind,:]\n",
      "        for j in range(i+1, len(MF_IDS_TO_NAME.keys())):\n",
      "            skid2 = MF_IDS_TO_NAME.keys()[j]\n",
      "            if skid2 in sk_list_new :\n",
      "                ind2 = np.where(sk_list_new == skid2)[0][0]\n",
      "                row2 = adjacency_new[ind2,:]\n",
      "                n_shared = np.vdot(row1,row2)\n",
      "                if( n_shared > 1 ):\n",
      "                    if( n_shared == 2 ):\n",
      "                        n_over += 1\n",
      "                    elif( n_shared == 3 ):\n",
      "                        n_over += 3\n",
      "                    #print \"MF A: %s\" % MF_IDS_TO_NAME[skid]['name']\n",
      "                    #print \"MF B: %s\" % MF_IDS_TO_NAME[skid2]['name']\n",
      "                    #print \"N_SHARED: %d\" % n_shared\n",
      "print n_over"
     ],
     "language": "python",
     "metadata": {},
     "outputs": [
      {
       "output_type": "stream",
       "stream": "stdout",
       "text": [
        "18\n"
       ]
      }
     ],
     "prompt_number": 32
    },
    {
     "cell_type": "code",
     "collapsed": false,
     "input": [
      "#calculation for how much is used space\n",
      "top_left = None\n",
      "bot_right = None\n",
      "for skid in GRC_IDS_TO_NAME:\n",
      "    soma = GRC_IDS_TO_NAME[skid]['soma']\n",
      "    if top_left is None:\n",
      "        top_left = soma[0:2]\n",
      "    if bot_right is None:\n",
      "        bot_right = soma[0:2]\n",
      "    bot_right = np.maximum(bot_right, soma[0:2])\n",
      "    top_left = np.minimum(top_left, soma[0:2])\n",
      "print top_left -50000\n",
      "print bot_right +50000\n",
      "dims = bot_right - top_left\n",
      "dims"
     ],
     "language": "python",
     "metadata": {},
     "outputs": [
      {
       "output_type": "stream",
       "stream": "stdout",
       "text": [
        "[ 343352.  286488.]\n",
        "[ 595071.  481691.]\n"
       ]
      },
      {
       "metadata": {},
       "output_type": "pyout",
       "prompt_number": 114,
       "text": [
        "1373408"
       ]
      }
     ],
     "prompt_number": 114
    },
    {
     "cell_type": "code",
     "collapsed": false,
     "input": [
      "np.random.random()"
     ],
     "language": "python",
     "metadata": {},
     "outputs": [
      {
       "metadata": {},
       "output_type": "pyout",
       "prompt_number": 144,
       "text": [
        "0.24000422255456755"
       ]
      }
     ],
     "prompt_number": 144
    },
    {
     "cell_type": "code",
     "collapsed": false,
     "input": [
      "a = [1,2,3]\n",
      "b= np.cumsum(a)\n",
      "print b\n",
      "bisect.bisect_right(b,7)"
     ],
     "language": "python",
     "metadata": {},
     "outputs": [
      {
       "output_type": "stream",
       "stream": "stdout",
       "text": [
        "[1 3 6]\n"
       ]
      },
      {
       "metadata": {},
       "output_type": "pyout",
       "prompt_number": 143,
       "text": [
        "3"
       ]
      }
     ],
     "prompt_number": 143
    },
    {
     "cell_type": "code",
     "collapsed": false,
     "input": [
      "a[2:]"
     ],
     "language": "python",
     "metadata": {},
     "outputs": [
      {
       "metadata": {},
       "output_type": "pyout",
       "prompt_number": 147,
       "text": [
        "[3]"
       ]
      }
     ],
     "prompt_number": 147
    },
    {
     "cell_type": "code",
     "collapsed": false,
     "input": [
      "np.maximum(a,b)"
     ],
     "language": "python",
     "metadata": {},
     "outputs": [
      {
       "metadata": {},
       "output_type": "pyout",
       "prompt_number": 80,
       "text": [
        "array([3, 2])"
       ]
      }
     ],
     "prompt_number": 80
    },
    {
     "cell_type": "code",
     "collapsed": false,
     "input": [
      "None in []"
     ],
     "language": "python",
     "metadata": {},
     "outputs": [
      {
       "metadata": {},
       "output_type": "pyout",
       "prompt_number": 145,
       "text": [
        "False"
       ]
      }
     ],
     "prompt_number": 145
    },
    {
     "cell_type": "code",
     "collapsed": false,
     "input": [],
     "language": "python",
     "metadata": {},
     "outputs": []
    }
   ],
   "metadata": {}
  }
 ]
}